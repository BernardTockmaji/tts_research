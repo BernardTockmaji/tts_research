{
 "cells": [
  {
   "cell_type": "code",
   "execution_count": 3,
   "metadata": {},
   "outputs": [
    {
     "name": "stderr",
     "output_type": "stream",
     "text": [
      "playsound is relying on another python subprocess. Please use `pip install pygobject` if you want playsound to run more efficiently.\n"
     ]
    }
   ],
   "source": [
    "import re\n",
    "import pandas as pd\n",
    "\n",
    "from gtts import gTTS, lang\n",
    "from playsound import playsound \n",
    "\n",
    "import numpy as np\n",
    "\n",
    "#transformer imports\n",
    "from fairseq.checkpoint_utils import load_model_ensemble_and_task_from_hf_hub\n",
    "from fairseq.models.text_to_speech.hub_interface import TTSHubInterface\n",
    "import IPython.display as ipd\n",
    "\n",
    "#writing wav files imports\n",
    "from scipy.io.wavfile import write\n",
    "\n",
    "#silence removal libraries\n",
    "from pydub import AudioSegment\n",
    "from pydub.silence import detect_silence"
   ]
  },
  {
   "cell_type": "code",
   "execution_count": 4,
   "metadata": {},
   "outputs": [],
   "source": [
    "WORDS_DATA_DIR = 'data/words.csv'\n",
    "\n",
    "words_data = pd.read_csv(WORDS_DATA_DIR, encoding='utf-8')"
   ]
  },
  {
   "cell_type": "code",
   "execution_count": 5,
   "metadata": {},
   "outputs": [
    {
     "data": {
      "text/plain": [
       "'آلية '"
      ]
     },
     "execution_count": 5,
     "metadata": {},
     "output_type": "execute_result"
    }
   ],
   "source": [
    "def remove_word_enclosed_in_parenthesis_from_string(text_str: str) -> str:\n",
    "\n",
    "    return re.sub(r'[\\(\\[].*?[\\)\\]]', '', text_str)\n",
    "\n",
    "remove_word_enclosed_in_parenthesis_from_string('آلية (تركيبة تشغيل)')"
   ]
  },
  {
   "cell_type": "code",
   "execution_count": 6,
   "metadata": {},
   "outputs": [],
   "source": [
    "words_data['keyword_free_punctuation_clean'] = words_data['keyword_free_punctuation'].apply(lambda x: remove_word_enclosed_in_parenthesis_from_string(x))"
   ]
  },
  {
   "cell_type": "code",
   "execution_count": 8,
   "metadata": {},
   "outputs": [
    {
     "data": {
      "text/html": [
       "<div>\n",
       "<style scoped>\n",
       "    .dataframe tbody tr th:only-of-type {\n",
       "        vertical-align: middle;\n",
       "    }\n",
       "\n",
       "    .dataframe tbody tr th {\n",
       "        vertical-align: top;\n",
       "    }\n",
       "\n",
       "    .dataframe thead th {\n",
       "        text-align: right;\n",
       "    }\n",
       "</style>\n",
       "<table border=\"1\" class=\"dataframe\">\n",
       "  <thead>\n",
       "    <tr style=\"text-align: right;\">\n",
       "      <th></th>\n",
       "      <th>id</th>\n",
       "      <th>keyword</th>\n",
       "      <th>keyword_free_punctuation</th>\n",
       "      <th>keyword_free_punctuation_clean</th>\n",
       "    </tr>\n",
       "  </thead>\n",
       "  <tbody>\n",
       "    <tr>\n",
       "      <th>0</th>\n",
       "      <td>5126544</td>\n",
       "      <td>اِئْتكال</td>\n",
       "      <td>ائتكال</td>\n",
       "      <td>ائتكال</td>\n",
       "    </tr>\n",
       "    <tr>\n",
       "      <th>1</th>\n",
       "      <td>5126545</td>\n",
       "      <td>اِئْتِلاف</td>\n",
       "      <td>ائتلاف</td>\n",
       "      <td>ائتلاف</td>\n",
       "    </tr>\n",
       "    <tr>\n",
       "      <th>2</th>\n",
       "      <td>5126546</td>\n",
       "      <td>اِئْتلَفَ</td>\n",
       "      <td>ائتلف</td>\n",
       "      <td>ائتلف</td>\n",
       "    </tr>\n",
       "    <tr>\n",
       "      <th>3</th>\n",
       "      <td>5126547</td>\n",
       "      <td>اِئْتمان</td>\n",
       "      <td>ائتمان</td>\n",
       "      <td>ائتمان</td>\n",
       "    </tr>\n",
       "    <tr>\n",
       "      <th>4</th>\n",
       "      <td>5126548</td>\n",
       "      <td>اِئْتمانيّ</td>\n",
       "      <td>ائتماني</td>\n",
       "      <td>ائتماني</td>\n",
       "    </tr>\n",
       "  </tbody>\n",
       "</table>\n",
       "</div>"
      ],
      "text/plain": [
       "        id      keyword keyword_free_punctuation  \\\n",
       "0  5126544    اِئْتكال                   ائتكال    \n",
       "1  5126545   اِئْتِلاف                   ائتلاف    \n",
       "2  5126546   اِئْتلَفَ                    ائتلف    \n",
       "3  5126547    اِئْتمان                   ائتمان    \n",
       "4  5126548  اِئْتمانيّ                  ائتماني    \n",
       "\n",
       "  keyword_free_punctuation_clean  \n",
       "0                        ائتكال   \n",
       "1                        ائتلاف   \n",
       "2                         ائتلف   \n",
       "3                        ائتمان   \n",
       "4                       ائتماني   "
      ]
     },
     "execution_count": 8,
     "metadata": {},
     "output_type": "execute_result"
    }
   ],
   "source": [
    "words_data.head()"
   ]
  },
  {
   "cell_type": "code",
   "execution_count": 9,
   "metadata": {},
   "outputs": [],
   "source": [
    "words_data = words_data.astype({'keyword': 'string',\n",
    "                                'keyword_free_punctuation': 'string',\n",
    "                                'keyword_free_punctuation_clean': 'string'})\n"
   ]
  },
  {
   "cell_type": "markdown",
   "metadata": {},
   "source": [
    "    Google TTS Trial"
   ]
  },
  {
   "cell_type": "code",
   "execution_count": 10,
   "metadata": {},
   "outputs": [],
   "source": [
    "def get_speech_of_text(text_string: str):\n",
    "    tts = gTTS(text=text_string, lang='ar')\n",
    "\n",
    "    tts.save(f'{text_string}.mp3')\n",
    "\n",
    "get_speech_of_text('ائتلاف')"
   ]
  },
  {
   "cell_type": "markdown",
   "metadata": {},
   "source": [
    "    Facebook tts transformer cv7 trial"
   ]
  },
  {
   "cell_type": "code",
   "execution_count": 13,
   "metadata": {},
   "outputs": [
    {
     "data": {
      "application/vnd.jupyter.widget-view+json": {
       "model_id": "47eb4640a43743fc8b6b962ad1d91cc1",
       "version_major": 2,
       "version_minor": 0
      },
      "text/plain": [
       "Fetching 10 files:   0%|          | 0/10 [00:00<?, ?it/s]"
      ]
     },
     "metadata": {},
     "output_type": "display_data"
    },
    {
     "name": "stderr",
     "output_type": "stream",
     "text": [
      "2022-11-14 14:00:29 | INFO | fairseq.tasks.speech_to_text | dictionary size (spm_char.txt): 90\n",
      "2022-11-14 14:00:30 | INFO | fairseq.models.text_to_speech.vocoder | loaded HiFiGAN checkpoint from /home/elearning/.cache/fairseq/models--facebook--tts_transformer-ar-cv7/snapshots/c6e31971876a13c2ce0e1d26097093c0ece23e20/hifigan.bin\n",
      "2022-11-14 14:00:31 | INFO | fairseq.models.text_to_speech.vocoder | loaded HiFiGAN checkpoint from /home/elearning/.cache/fairseq/models--facebook--tts_transformer-ar-cv7/snapshots/c6e31971876a13c2ce0e1d26097093c0ece23e20/hifigan.bin\n"
     ]
    }
   ],
   "source": [
    "models, cfg, task = load_model_ensemble_and_task_from_hf_hub(\n",
    "    \"facebook/tts_transformer-ar-cv7\",\n",
    "    arg_overrides={\"vocoder\": \"hifigan\", \"fp16\":False}\n",
    ")\n",
    "model = models[0]\n",
    "TTSHubInterface.update_cfg_with_data_cfg(cfg, task.data_cfg)\n",
    "generator = task.build_generator([model], cfg)\n"
   ]
  },
  {
   "cell_type": "code",
   "execution_count": 55,
   "metadata": {},
   "outputs": [
    {
     "name": "stderr",
     "output_type": "stream",
     "text": [
      "2022-11-14 14:34:52 | WARNING | phonemizer | words count mismatch on 100.0% of the lines (1/1)\n"
     ]
    }
   ],
   "source": [
    "text = \"ذهب الولد إلى المدرسة مع الاصدقاء و استطاعوا التسلل خلف المدرس لسرقة اسئلة الامتحان \"\n",
    "#text = \"ذهب الولد\"\n",
    "sample = TTSHubInterface.get_model_input(task, text)\n",
    "wav, rate = TTSHubInterface.get_prediction(task, model, generator, sample)\n",
    "ipd.Audio(wav, rate=rate)"
   ]
  },
  {
   "cell_type": "code",
   "execution_count": 27,
   "metadata": {},
   "outputs": [],
   "source": [
    "data = np.array(wav)"
   ]
  },
  {
   "cell_type": "code",
   "execution_count": 28,
   "metadata": {},
   "outputs": [],
   "source": [
    "write(filename='ذهب.wav', rate=rate, data=data)"
   ]
  },
  {
   "cell_type": "code",
   "execution_count": 29,
   "metadata": {},
   "outputs": [],
   "source": [
    "sound = AudioSegment.from_file('ذهب.wav', format='wav')"
   ]
  },
  {
   "cell_type": "code",
   "execution_count": 30,
   "metadata": {},
   "outputs": [],
   "source": [
    "ranges = detect_silence(sound,\n",
    "                        silence_thresh=-80)                    "
   ]
  },
  {
   "cell_type": "code",
   "execution_count": 31,
   "metadata": {},
   "outputs": [],
   "source": [
    "def detect_leading_silence(sound, silence_threshold=-50.0, chunk_size=10):\n",
    "    '''\n",
    "    sound is a pydub.AudioSegment\n",
    "    silence_threshold in dB\n",
    "    chunk_size in ms\n",
    "\n",
    "    iterate over chunks until you find the first one with sound\n",
    "    '''\n",
    "    trim_ms = 0 # ms\n",
    "\n",
    "    assert chunk_size > 0 # to avoid infinite loop\n",
    "    while sound[trim_ms:trim_ms+chunk_size].dBFS < silence_threshold and trim_ms < len(sound):\n",
    "        trim_ms += chunk_size\n",
    "\n",
    "    return trim_ms"
   ]
  },
  {
   "cell_type": "code",
   "execution_count": 32,
   "metadata": {},
   "outputs": [],
   "source": [
    "sound = AudioSegment.from_file(\"ذهب.wav\", format=\"wav\")\n",
    "\n",
    "start_trim = detect_leading_silence(sound)\n",
    "end_trim = detect_leading_silence(sound.reverse())\n",
    "\n",
    "duration = len(sound)    \n",
    "trimmed_sound = sound[start_trim:duration-end_trim]"
   ]
  },
  {
   "cell_type": "code",
   "execution_count": 33,
   "metadata": {},
   "outputs": [
    {
     "data": {
      "text/html": [
       "\n",
       "                    <audio controls>\n",
       "                        <source src=\"data:audio/mpeg;base64,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\" type=\"audio/mpeg\"/>\n",
       "                        Your browser does not support the audio element.\n",
       "                    </audio>\n",
       "                  "
      ],
      "text/plain": [
       "<pydub.audio_segment.AudioSegment at 0x7f21eac891b0>"
      ]
     },
     "execution_count": 33,
     "metadata": {},
     "output_type": "execute_result"
    }
   ],
   "source": [
    "trimmed_sound"
   ]
  },
  {
   "cell_type": "code",
   "execution_count": null,
   "metadata": {},
   "outputs": [],
   "source": []
  }
 ],
 "metadata": {
  "kernelspec": {
   "display_name": "Python 3.10.6 ('tts-env')",
   "language": "python",
   "name": "python3"
  },
  "language_info": {
   "codemirror_mode": {
    "name": "ipython",
    "version": 3
   },
   "file_extension": ".py",
   "mimetype": "text/x-python",
   "name": "python",
   "nbconvert_exporter": "python",
   "pygments_lexer": "ipython3",
   "version": "3.10.6"
  },
  "orig_nbformat": 4,
  "vscode": {
   "interpreter": {
    "hash": "67215846a1213df9cbe2b5f1b318842378bc8e23f304fc1bbf45ab647ad6ae11"
   }
  }
 },
 "nbformat": 4,
 "nbformat_minor": 2
}
